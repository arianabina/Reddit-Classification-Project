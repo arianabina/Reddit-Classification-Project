{
 "cells": [
  {
   "cell_type": "markdown",
   "id": "494ea216-8291-487c-88bd-9c0b2f33b693",
   "metadata": {},
   "source": [
    "## Model #1: Logistic Regression + Count Vectorizer"
   ]
  },
  {
   "cell_type": "code",
   "execution_count": 46,
   "id": "787957c0-03b9-4f41-ad43-383c94c7c4e2",
   "metadata": {},
   "outputs": [],
   "source": [
    "import pandas as pd\n",
    "import numpy as np\n",
    "import matplotlib.pyplot as plt\n",
    "\n",
    "from sklearn.model_selection import train_test_split, GridSearchCV\n",
    "from sklearn.linear_model import LogisticRegression\n",
    "from sklearn.pipeline import Pipeline\n",
    "\n",
    "from sklearn.metrics import confusion_matrix, ConfusionMatrixDisplay\n",
    "from sklearn.feature_extraction.text import CountVectorizer\n",
    "import nltk\n",
    "from nltk.corpus import stopwords\n",
    "\n",
    "pd.set_option('display.max_colwidth', None)"
   ]
  },
  {
   "cell_type": "code",
   "execution_count": 13,
   "id": "a93a8861-fcde-42c2-9cbf-992d14bef29c",
   "metadata": {},
   "outputs": [],
   "source": [
    "beauty = pd.read_csv('../Data/beauty.csv')"
   ]
  },
  {
   "cell_type": "code",
   "execution_count": 14,
   "id": "69a31745-3fc2-4ea4-ad42-e196c5ed424a",
   "metadata": {},
   "outputs": [
    {
     "data": {
      "text/html": [
       "<div>\n",
       "<style scoped>\n",
       "    .dataframe tbody tr th:only-of-type {\n",
       "        vertical-align: middle;\n",
       "    }\n",
       "\n",
       "    .dataframe tbody tr th {\n",
       "        vertical-align: top;\n",
       "    }\n",
       "\n",
       "    .dataframe thead th {\n",
       "        text-align: right;\n",
       "    }\n",
       "</style>\n",
       "<table border=\"1\" class=\"dataframe\">\n",
       "  <thead>\n",
       "    <tr style=\"text-align: right;\">\n",
       "      <th></th>\n",
       "      <th>created_utc</th>\n",
       "      <th>title</th>\n",
       "      <th>self_text</th>\n",
       "      <th>subreddit</th>\n",
       "    </tr>\n",
       "  </thead>\n",
       "  <tbody>\n",
       "    <tr>\n",
       "      <th>0</th>\n",
       "      <td>1.712793e+09</td>\n",
       "      <td>[Anti-Aging] Favorite La Roche Posay products for early signs of aging?</td>\n",
       "      <td>I am 29 years old female. I’ve noticed some tiny wrinkles around my eyes. I also have mostly dry, not sensitive skin, which sometimes becomes oily, but combination skin products don’t work on me. I have tried The Ordinary routines and was highly satisfied, but I want to start using something new and I hear only good reviews on La Roche Posay, so I’d really value your opinion on the products that you find the best.</td>\n",
       "      <td>1</td>\n",
       "    </tr>\n",
       "    <tr>\n",
       "      <th>1</th>\n",
       "      <td>1.712793e+09</td>\n",
       "      <td>[Acne] Does epiduo expire in 3 months?</td>\n",
       "      <td>So I used to use epiduo for my acne but I stopped (I felt like it wasn’t doing anything). But I thought I’d give it another chance. I took out my epiduo and realised it said once opened, use within 3 months. It’s been much longer than 3 months.\\nWill something bad happen if I continue to use it?</td>\n",
       "      <td>1</td>\n",
       "    </tr>\n",
       "    <tr>\n",
       "      <th>2</th>\n",
       "      <td>1.712792e+09</td>\n",
       "      <td>[Acne] Am I taking too many prescribed acne medications</td>\n",
       "      <td>I would say my acne is average for my age or maybe a little worse then average, but it’s not unbearable. I recently went to the dermatologist and was prescribed with topical benzoyl peroxide, clindamycin pads, adapalene gel, and oral doxycycline. Does that seem like too much to start or take all at once?</td>\n",
       "      <td>1</td>\n",
       "    </tr>\n",
       "    <tr>\n",
       "      <th>3</th>\n",
       "      <td>1.712792e+09</td>\n",
       "      <td>[Routine Help] Salicylic acid not helping with my pimples</td>\n",
       "      <td>I've been using Peach Slices acne cleanser for a few weeks, and it's been great at reducing the oiliness on my face. However, I still have issues with my pimples (hormonal acne). Any advice?\\r  \\n</td>\n",
       "      <td>1</td>\n",
       "    </tr>\n",
       "    <tr>\n",
       "      <th>4</th>\n",
       "      <td>1.712792e+09</td>\n",
       "      <td>[Misc] Should I reapply Glycolic Acid Toner to the cotton pad if it still feels damp?</td>\n",
       "      <td>Hello. I recently got my first bottle of The Ordinary Glycolic Acid toner. I’m using it for my legs due to hyperpigmentation, so it’s a much larger area than just the face, which is why I even consider reapplying to the cotton pad.\\n\\nAs long as the cotton pad is damp am I rubbing on glycolic acid into my legs, or at some point do I need to reapply?</td>\n",
       "      <td>1</td>\n",
       "    </tr>\n",
       "  </tbody>\n",
       "</table>\n",
       "</div>"
      ],
      "text/plain": [
       "    created_utc  \\\n",
       "0  1.712793e+09   \n",
       "1  1.712793e+09   \n",
       "2  1.712792e+09   \n",
       "3  1.712792e+09   \n",
       "4  1.712792e+09   \n",
       "\n",
       "                                                                                   title  \\\n",
       "0                [Anti-Aging] Favorite La Roche Posay products for early signs of aging?   \n",
       "1                                                 [Acne] Does epiduo expire in 3 months?   \n",
       "2                                [Acne] Am I taking too many prescribed acne medications   \n",
       "3                              [Routine Help] Salicylic acid not helping with my pimples   \n",
       "4  [Misc] Should I reapply Glycolic Acid Toner to the cotton pad if it still feels damp?   \n",
       "\n",
       "                                                                                                                                                                                                                                                                                                                                                                                                                           self_text  \\\n",
       "0  I am 29 years old female. I’ve noticed some tiny wrinkles around my eyes. I also have mostly dry, not sensitive skin, which sometimes becomes oily, but combination skin products don’t work on me. I have tried The Ordinary routines and was highly satisfied, but I want to start using something new and I hear only good reviews on La Roche Posay, so I’d really value your opinion on the products that you find the best.   \n",
       "1                                                                                                                          So I used to use epiduo for my acne but I stopped (I felt like it wasn’t doing anything). But I thought I’d give it another chance. I took out my epiduo and realised it said once opened, use within 3 months. It’s been much longer than 3 months.\\nWill something bad happen if I continue to use it?    \n",
       "2                                                                                                                  I would say my acne is average for my age or maybe a little worse then average, but it’s not unbearable. I recently went to the dermatologist and was prescribed with topical benzoyl peroxide, clindamycin pads, adapalene gel, and oral doxycycline. Does that seem like too much to start or take all at once?   \n",
       "3                                                                                                                                                                                                                               I've been using Peach Slices acne cleanser for a few weeks, and it's been great at reducing the oiliness on my face. However, I still have issues with my pimples (hormonal acne). Any advice?\\r  \\n   \n",
       "4                                                                    Hello. I recently got my first bottle of The Ordinary Glycolic Acid toner. I’m using it for my legs due to hyperpigmentation, so it’s a much larger area than just the face, which is why I even consider reapplying to the cotton pad.\\n\\nAs long as the cotton pad is damp am I rubbing on glycolic acid into my legs, or at some point do I need to reapply?   \n",
       "\n",
       "   subreddit  \n",
       "0          1  \n",
       "1          1  \n",
       "2          1  \n",
       "3          1  \n",
       "4          1  "
      ]
     },
     "execution_count": 14,
     "metadata": {},
     "output_type": "execute_result"
    }
   ],
   "source": [
    "beauty.head()"
   ]
  },
  {
   "cell_type": "code",
   "execution_count": 15,
   "id": "c0ed22fc-e9d6-4b2d-9319-ca12595ec118",
   "metadata": {},
   "outputs": [
    {
     "data": {
      "text/plain": [
       "(1912, 4)"
      ]
     },
     "execution_count": 15,
     "metadata": {},
     "output_type": "execute_result"
    }
   ],
   "source": [
    "beauty.shape"
   ]
  },
  {
   "cell_type": "code",
   "execution_count": 16,
   "id": "6df60b85-b90b-4f34-b472-60aeb72bf5b6",
   "metadata": {},
   "outputs": [],
   "source": [
    "X = beauty['title']\n",
    "y = beauty['subreddit']"
   ]
  },
  {
   "cell_type": "code",
   "execution_count": 17,
   "id": "68bb25a4-0d0a-40b0-873a-aa246aca0c34",
   "metadata": {},
   "outputs": [
    {
     "data": {
      "text/plain": [
       "(1912,)"
      ]
     },
     "execution_count": 17,
     "metadata": {},
     "output_type": "execute_result"
    }
   ],
   "source": [
    "X.shape"
   ]
  },
  {
   "cell_type": "markdown",
   "id": "ea3667c6-b545-4283-9c9f-d3974680c912",
   "metadata": {},
   "source": [
    "### Train Test Split"
   ]
  },
  {
   "cell_type": "code",
   "execution_count": 18,
   "id": "a1ba09f3-4a76-44c4-aabb-f5f5d572e43b",
   "metadata": {},
   "outputs": [],
   "source": [
    "X_train, X_test, y_train, y_test = train_test_split(X, y, test_size=0.2, random_state=42)"
   ]
  },
  {
   "cell_type": "code",
   "execution_count": 19,
   "id": "d128cb2c-0b7e-4c70-b570-2ca22cabd073",
   "metadata": {},
   "outputs": [
    {
     "data": {
      "text/plain": [
       "(1529,)"
      ]
     },
     "execution_count": 19,
     "metadata": {},
     "output_type": "execute_result"
    }
   ],
   "source": [
    "X_train.shape"
   ]
  },
  {
   "cell_type": "markdown",
   "id": "f6aae27a-54cc-457d-b543-2b624bb013f1",
   "metadata": {},
   "source": [
    "### Stop Words"
   ]
  },
  {
   "cell_type": "code",
   "execution_count": 47,
   "id": "a76d75eb-a628-48c2-bb1a-9b3a11358f9f",
   "metadata": {},
   "outputs": [
    {
     "name": "stderr",
     "output_type": "stream",
     "text": [
      "[nltk_data] Downloading package stopwords to\n",
      "[nltk_data]     /Users/aribina/nltk_data...\n",
      "[nltk_data]   Unzipping corpora/stopwords.zip.\n"
     ]
    }
   ],
   "source": [
    "nltk.download('stopwords')\n",
    "\n",
    "english_stop_words = stopwords.words('english')\n",
    "\n",
    "#  custom stop words list including 'makeup' and NLTK English stop words\n",
    "custom_stop_words = ['makeup']  \n",
    "custom_stop_words += english_stop_words\n",
    "\n",
    "# CountVectorizer with custom stop words\n",
    "cvec = CountVectorizer(stop_words=custom_stop_words)"
   ]
  },
  {
   "cell_type": "markdown",
   "id": "277b22d2-f2fc-411b-af76-a85353b2f009",
   "metadata": {},
   "source": [
    "### Benchmark Model "
   ]
  },
  {
   "cell_type": "code",
   "execution_count": 48,
   "id": "343a79ea-e67e-49d2-8562-fcd09906ede1",
   "metadata": {},
   "outputs": [],
   "source": [
    "cvec = CountVectorizer(stop_words=custom_stop_words)"
   ]
  },
  {
   "cell_type": "code",
   "execution_count": 49,
   "id": "70108f74-2fd8-4268-af0a-7ac53d7bef67",
   "metadata": {},
   "outputs": [],
   "source": [
    "X_train_df = pd.DataFrame(cvec_bench.fit_transform(X_train).todense(),\n",
    "                          columns=cvec_bench.get_feature_names_out())"
   ]
  },
  {
   "cell_type": "code",
   "execution_count": 50,
   "id": "c0978598-9289-4abf-88e2-3d7ca5edd616",
   "metadata": {},
   "outputs": [
    {
     "data": {
      "image/png": "[encoded data removed]",
      "text/plain": [
       "<Figure size 640x480 with 1 Axes>"
      ]
     },
     "metadata": {},
     "output_type": "display_data"
    }
   ],
   "source": [
    "X_train_df.sum().sort_values(ascending=False).head(20).plot(kind='barh');"
   ]
  },
  {
   "cell_type": "code",
   "execution_count": 51,
   "id": "f92d55fb-110c-45b5-bdf6-e964cf308477",
   "metadata": {},
   "outputs": [],
   "source": [
    "pipe_bench = Pipeline([\n",
    "    ('cvec_bench', CountVectorizer(stop_words='english')),\n",
    "    ('log_reg_bench', LogisticRegression())\n",
    "])"
   ]
  },
  {
   "cell_type": "code",
   "execution_count": 52,
   "id": "20a75d54-9e1c-46be-8b18-98982f8ed58b",
   "metadata": {},
   "outputs": [
    {
     "data": {
      "text/html": [
       "<style>#sk-container-id-4 {color: black;background-color: white;}#sk-container-id-4 pre{padding: 0;}#sk-container-id-4 div.sk-toggleable {background-color: white;}#sk-container-id-4 label.sk-toggleable__label {cursor: pointer;display: block;width: 100%;margin-bottom: 0;padding: 0.3em;box-sizing: border-box;text-align: center;}#sk-container-id-4 label.sk-toggleable__label-arrow:before {content: \"▸\";float: left;margin-right: 0.25em;color: #696969;}#sk-container-id-4 label.sk-toggleable__label-arrow:hover:before {color: black;}#sk-container-id-4 div.sk-estimator:hover label.sk-toggleable__label-arrow:before {color: black;}#sk-container-id-4 div.sk-toggleable__content {max-height: 0;max-width: 0;overflow: hidden;text-align: left;background-color: #f0f8ff;}#sk-container-id-4 div.sk-toggleable__content pre {margin: 0.2em;color: black;border-radius: 0.25em;background-color: #f0f8ff;}#sk-container-id-4 input.sk-toggleable__control:checked~div.sk-toggleable__content {max-height: 200px;max-width: 100%;overflow: auto;}#sk-container-id-4 input.sk-toggleable__control:checked~label.sk-toggleable__label-arrow:before {content: \"▾\";}#sk-container-id-4 div.sk-estimator input.sk-toggleable__control:checked~label.sk-toggleable__label {background-color: #d4ebff;}#sk-container-id-4 div.sk-label input.sk-toggleable__control:checked~label.sk-toggleable__label {background-color: #d4ebff;}#sk-container-id-4 input.sk-hidden--visually {border: 0;clip: rect(1px 1px 1px 1px);clip: rect(1px, 1px, 1px, 1px);height: 1px;margin: -1px;overflow: hidden;padding: 0;position: absolute;width: 1px;}#sk-container-id-4 div.sk-estimator {font-family: monospace;background-color: #f0f8ff;border: 1px dotted black;border-radius: 0.25em;box-sizing: border-box;margin-bottom: 0.5em;}#sk-container-id-4 div.sk-estimator:hover {background-color: #d4ebff;}#sk-container-id-4 div.sk-parallel-item::after {content: \"\";width: 100%;border-bottom: 1px solid gray;flex-grow: 1;}#sk-container-id-4 div.sk-label:hover label.sk-toggleable__label {background-color: #d4ebff;}#sk-container-id-4 div.sk-serial::before {content: \"\";position: absolute;border-left: 1px solid gray;box-sizing: border-box;top: 0;bottom: 0;left: 50%;z-index: 0;}#sk-container-id-4 div.sk-serial {display: flex;flex-direction: column;align-items: center;background-color: white;padding-right: 0.2em;padding-left: 0.2em;position: relative;}#sk-container-id-4 div.sk-item {position: relative;z-index: 1;}#sk-container-id-4 div.sk-parallel {display: flex;align-items: stretch;justify-content: center;background-color: white;position: relative;}#sk-container-id-4 div.sk-item::before, #sk-container-id-4 div.sk-parallel-item::before {content: \"\";position: absolute;border-left: 1px solid gray;box-sizing: border-box;top: 0;bottom: 0;left: 50%;z-index: -1;}#sk-container-id-4 div.sk-parallel-item {display: flex;flex-direction: column;z-index: 1;position: relative;background-color: white;}#sk-container-id-4 div.sk-parallel-item:first-child::after {align-self: flex-end;width: 50%;}#sk-container-id-4 div.sk-parallel-item:last-child::after {align-self: flex-start;width: 50%;}#sk-container-id-4 div.sk-parallel-item:only-child::after {width: 0;}#sk-container-id-4 div.sk-dashed-wrapped {border: 1px dashed gray;margin: 0 0.4em 0.5em 0.4em;box-sizing: border-box;padding-bottom: 0.4em;background-color: white;}#sk-container-id-4 div.sk-label label {font-family: monospace;font-weight: bold;display: inline-block;line-height: 1.2em;}#sk-container-id-4 div.sk-label-container {text-align: center;}#sk-container-id-4 div.sk-container {/* jupyter's `normalize.less` sets `[hidden] { display: none; }` but bootstrap.min.css set `[hidden] { display: none !important; }` so we also need the `!important` here to be able to override the default hidden behavior on the sphinx rendered scikit-learn.org. See: https://github.com/scikit-learn/scikit-learn/issues/21755 */display: inline-block !important;position: relative;}#sk-container-id-4 div.sk-text-repr-fallback {display: none;}</style><div id=\"sk-container-id-4\" class=\"sk-top-container\"><div class=\"sk-text-repr-fallback\"><pre>Pipeline(steps=[(&#x27;cvec_bench&#x27;, CountVectorizer(stop_words=&#x27;english&#x27;)),\n",
       "                (&#x27;log_reg_bench&#x27;, LogisticRegression())])</pre><b>In a Jupyter environment, please rerun this cell to show the HTML representation or trust the notebook. <br />On GitHub, the HTML representation is unable to render, please try loading this page with nbviewer.org.</b></div><div class=\"sk-container\" hidden><div class=\"sk-item sk-dashed-wrapped\"><div class=\"sk-label-container\"><div class=\"sk-label sk-toggleable\"><input class=\"sk-toggleable__control sk-hidden--visually\" id=\"sk-estimator-id-9\" type=\"checkbox\" ><label for=\"sk-estimator-id-9\" class=\"sk-toggleable__label sk-toggleable__label-arrow\">Pipeline</label><div class=\"sk-toggleable__content\"><pre>Pipeline(steps=[(&#x27;cvec_bench&#x27;, CountVectorizer(stop_words=&#x27;english&#x27;)),\n",
       "                (&#x27;log_reg_bench&#x27;, LogisticRegression())])</pre></div></div></div><div class=\"sk-serial\"><div class=\"sk-item\"><div class=\"sk-estimator sk-toggleable\"><input class=\"sk-toggleable__control sk-hidden--visually\" id=\"sk-estimator-id-10\" type=\"checkbox\" ><label for=\"sk-estimator-id-10\" class=\"sk-toggleable__label sk-toggleable__label-arrow\">CountVectorizer</label><div class=\"sk-toggleable__content\"><pre>CountVectorizer(stop_words=&#x27;english&#x27;)</pre></div></div></div><div class=\"sk-item\"><div class=\"sk-estimator sk-toggleable\"><input class=\"sk-toggleable__control sk-hidden--visually\" id=\"sk-estimator-id-11\" type=\"checkbox\" ><label for=\"sk-estimator-id-11\" class=\"sk-toggleable__label sk-toggleable__label-arrow\">LogisticRegression</label><div class=\"sk-toggleable__content\"><pre>LogisticRegression()</pre></div></div></div></div></div></div></div>"
      ],
      "text/plain": [
       "Pipeline(steps=[('cvec_bench', CountVectorizer(stop_words='english')),\n",
       "                ('log_reg_bench', LogisticRegression())])"
      ]
     },
     "execution_count": 52,
     "metadata": {},
     "output_type": "execute_result"
    }
   ],
   "source": [
    "pipe_bench.fit(X_train, y_train)"
   ]
  },
  {
   "cell_type": "code",
   "execution_count": 53,
   "id": "2adaaf9b-5879-467b-a2fb-9f6cefdb1d2c",
   "metadata": {},
   "outputs": [
    {
     "data": {
      "text/plain": [
       "0.9941137998691956"
      ]
     },
     "execution_count": 53,
     "metadata": {},
     "output_type": "execute_result"
    }
   ],
   "source": [
    "pipe_bench.score(X_train, y_train)"
   ]
  },
  {
   "cell_type": "code",
   "execution_count": 54,
   "id": "c8edcf6a-2f1d-457e-bb9e-cdade2260a36",
   "metadata": {},
   "outputs": [
    {
     "data": {
      "text/plain": [
       "0.9712793733681462"
      ]
     },
     "execution_count": 54,
     "metadata": {},
     "output_type": "execute_result"
    }
   ],
   "source": [
    "pipe_bench.score(X_test, y_test)"
   ]
  },
  {
   "cell_type": "code",
   "execution_count": 55,
   "id": "93adb382-af86-4889-9129-a0134eede6cb",
   "metadata": {},
   "outputs": [
    {
     "data": {
      "text/plain": [
       "0.4801255230125523"
      ]
     },
     "execution_count": 55,
     "metadata": {},
     "output_type": "execute_result"
    }
   ],
   "source": [
    "1 - y.mean()"
   ]
  },
  {
   "cell_type": "code",
   "execution_count": 56,
   "id": "33ae7824-fe1c-4e81-8ded-2f08c18742a2",
   "metadata": {},
   "outputs": [
    {
     "data": {
      "text/plain": [
       "{'memory': None,\n",
       " 'steps': [('cvec_bench', CountVectorizer(stop_words='english')),\n",
       "  ('log_reg_bench', LogisticRegression())],\n",
       " 'verbose': False,\n",
       " 'cvec_bench': CountVectorizer(stop_words='english'),\n",
       " 'log_reg_bench': LogisticRegression(),\n",
       " 'cvec_bench__analyzer': 'word',\n",
       " 'cvec_bench__binary': False,\n",
       " 'cvec_bench__decode_error': 'strict',\n",
       " 'cvec_bench__dtype': numpy.int64,\n",
       " 'cvec_bench__encoding': 'utf-8',\n",
       " 'cvec_bench__input': 'content',\n",
       " 'cvec_bench__lowercase': True,\n",
       " 'cvec_bench__max_df': 1.0,\n",
       " 'cvec_bench__max_features': None,\n",
       " 'cvec_bench__min_df': 1,\n",
       " 'cvec_bench__ngram_range': (1, 1),\n",
       " 'cvec_bench__preprocessor': None,\n",
       " 'cvec_bench__stop_words': 'english',\n",
       " 'cvec_bench__strip_accents': None,\n",
       " 'cvec_bench__token_pattern': '(?u)\\\\b\\\\w\\\\w+\\\\b',\n",
       " 'cvec_bench__tokenizer': None,\n",
       " 'cvec_bench__vocabulary': None,\n",
       " 'log_reg_bench__C': 1.0,\n",
       " 'log_reg_bench__class_weight': None,\n",
       " 'log_reg_bench__dual': False,\n",
       " 'log_reg_bench__fit_intercept': True,\n",
       " 'log_reg_bench__intercept_scaling': 1,\n",
       " 'log_reg_bench__l1_ratio': None,\n",
       " 'log_reg_bench__max_iter': 100,\n",
       " 'log_reg_bench__multi_class': 'auto',\n",
       " 'log_reg_bench__n_jobs': None,\n",
       " 'log_reg_bench__penalty': 'l2',\n",
       " 'log_reg_bench__random_state': None,\n",
       " 'log_reg_bench__solver': 'lbfgs',\n",
       " 'log_reg_bench__tol': 0.0001,\n",
       " 'log_reg_bench__verbose': 0,\n",
       " 'log_reg_bench__warm_start': False}"
      ]
     },
     "execution_count": 56,
     "metadata": {},
     "output_type": "execute_result"
    }
   ],
   "source": [
    "pipe_bench.get_params()"
   ]
  },
  {
   "cell_type": "markdown",
   "id": "8586b694-1dc6-471e-b88c-6f989e2c106d",
   "metadata": {},
   "source": [
    "### Model Tuning"
   ]
  },
  {
   "cell_type": "code",
   "execution_count": 57,
   "id": "01e59fc0-9cc8-4762-8edb-36a85d9e34df",
   "metadata": {},
   "outputs": [],
   "source": [
    "custom_stop_words = ['english', 'makeup']"
   ]
  },
  {
   "cell_type": "code",
   "execution_count": 58,
   "id": "a80c761e-2a46-473e-9385-15597f052af3",
   "metadata": {},
   "outputs": [],
   "source": [
    "pipe = Pipeline([\n",
    "    ('cvec', CountVectorizer(stop_words=custom_stop_words)),\n",
    "    ('log_reg', LogisticRegression())\n",
    "])"
   ]
  },
  {
   "cell_type": "code",
   "execution_count": 59,
   "id": "3736c13e-7bc0-4700-994c-334ca994ad93",
   "metadata": {},
   "outputs": [],
   "source": [
    "pipe_params = {\n",
    "    'cvec__max_features': [None, 3_000, 5_000],\n",
    "    'cvec__min_df': [1, 2, 3],\n",
    "    'cvec__max_df': [.9, .95, 1],\n",
    "    'cvec__ngram_range': [(1,1), (1, 2)],\n",
    "}"
   ]
  },
  {
   "cell_type": "code",
   "execution_count": 60,
   "id": "a6f41224-ac32-4ca8-bb72-6fd3ab219813",
   "metadata": {},
   "outputs": [],
   "source": [
    "gs = GridSearchCV(pipe,\n",
    "                  param_grid = pipe_params,\n",
    "                  cv = 5)"
   ]
  },
  {
   "cell_type": "code",
   "execution_count": 61,
   "id": "29b2f9b1-cd98-4c0a-a1f7-637792ef4f72",
   "metadata": {},
   "outputs": [
    {
     "name": "stdout",
     "output_type": "stream",
     "text": [
      "CPU times: user 3.21 s, sys: 88.3 ms, total: 3.3 s\n",
      "Wall time: 3.31 s\n"
     ]
    },
    {
     "name": "stderr",
     "output_type": "stream",
     "text": [
      "/opt/anaconda3/lib/python3.11/site-packages/sklearn/model_selection/_validation.py:378: FitFailedWarning: \n",
      "60 fits failed out of a total of 270.\n",
      "The score on these train-test partitions for these parameters will be set to nan.\n",
      "If these failures are not expected, you can try to debug them by setting error_score='raise'.\n",
      "\n",
      "Below are more details about the failures:\n",
      "--------------------------------------------------------------------------------\n",
      "60 fits failed with the following error:\n",
      "Traceback (most recent call last):\n",
      "  File \"/opt/anaconda3/lib/python3.11/site-packages/sklearn/model_selection/_validation.py\", line 686, in _fit_and_score\n",
      "    estimator.fit(X_train, y_train, **fit_params)\n",
      "  File \"/opt/anaconda3/lib/python3.11/site-packages/sklearn/pipeline.py\", line 401, in fit\n",
      "    Xt = self._fit(X, y, **fit_params_steps)\n",
      "         ^^^^^^^^^^^^^^^^^^^^^^^^^^^^^^^^^^^\n",
      "  File \"/opt/anaconda3/lib/python3.11/site-packages/sklearn/pipeline.py\", line 359, in _fit\n",
      "    X, fitted_transformer = fit_transform_one_cached(\n",
      "                            ^^^^^^^^^^^^^^^^^^^^^^^^^\n",
      "  File \"/opt/anaconda3/lib/python3.11/site-packages/joblib/memory.py\", line 349, in __call__\n",
      "    return self.func(*args, **kwargs)\n",
      "           ^^^^^^^^^^^^^^^^^^^^^^^^^^\n",
      "  File \"/opt/anaconda3/lib/python3.11/site-packages/sklearn/pipeline.py\", line 893, in _fit_transform_one\n",
      "    res = transformer.fit_transform(X, y, **fit_params)\n",
      "          ^^^^^^^^^^^^^^^^^^^^^^^^^^^^^^^^^^^^^^^^^^^^^\n",
      "  File \"/opt/anaconda3/lib/python3.11/site-packages/sklearn/feature_extraction/text.py\", line 1398, in fit_transform\n",
      "    raise ValueError(\"max_df corresponds to < documents than min_df\")\n",
      "ValueError: max_df corresponds to < documents than min_df\n",
      "\n",
      "  warnings.warn(some_fits_failed_message, FitFailedWarning)\n",
      "/opt/anaconda3/lib/python3.11/site-packages/sklearn/model_selection/_search.py:952: UserWarning: One or more of the test scores are non-finite: [0.96991535 0.96991535 0.97056895 0.97579771 0.97056895 0.97579771\n",
      " 0.96991535 0.97579771 0.97056895 0.97579771 0.97056895 0.97579771\n",
      " 0.96991535 0.97383692 0.97056895 0.97579771 0.97056895 0.97579771\n",
      " 0.96991535 0.96991535 0.97056895 0.97579771 0.97056895 0.97579771\n",
      " 0.96991535 0.97579771 0.97056895 0.97579771 0.97056895 0.97579771\n",
      " 0.96991535 0.97383692 0.97056895 0.97579771 0.97056895 0.97579771\n",
      " 0.5820915  0.68279224        nan        nan        nan        nan\n",
      " 0.5820915  0.61347477        nan        nan        nan        nan\n",
      " 0.5820915  0.65401479        nan        nan        nan        nan]\n",
      "  warnings.warn(\n"
     ]
    },
    {
     "data": {
      "text/html": [
       "<style>#sk-container-id-5 {color: black;background-color: white;}#sk-container-id-5 pre{padding: 0;}#sk-container-id-5 div.sk-toggleable {background-color: white;}#sk-container-id-5 label.sk-toggleable__label {cursor: pointer;display: block;width: 100%;margin-bottom: 0;padding: 0.3em;box-sizing: border-box;text-align: center;}#sk-container-id-5 label.sk-toggleable__label-arrow:before {content: \"▸\";float: left;margin-right: 0.25em;color: #696969;}#sk-container-id-5 label.sk-toggleable__label-arrow:hover:before {color: black;}#sk-container-id-5 div.sk-estimator:hover label.sk-toggleable__label-arrow:before {color: black;}#sk-container-id-5 div.sk-toggleable__content {max-height: 0;max-width: 0;overflow: hidden;text-align: left;background-color: #f0f8ff;}#sk-container-id-5 div.sk-toggleable__content pre {margin: 0.2em;color: black;border-radius: 0.25em;background-color: #f0f8ff;}#sk-container-id-5 input.sk-toggleable__control:checked~div.sk-toggleable__content {max-height: 200px;max-width: 100%;overflow: auto;}#sk-container-id-5 input.sk-toggleable__control:checked~label.sk-toggleable__label-arrow:before {content: \"▾\";}#sk-container-id-5 div.sk-estimator input.sk-toggleable__control:checked~label.sk-toggleable__label {background-color: #d4ebff;}#sk-container-id-5 div.sk-label input.sk-toggleable__control:checked~label.sk-toggleable__label {background-color: #d4ebff;}#sk-container-id-5 input.sk-hidden--visually {border: 0;clip: rect(1px 1px 1px 1px);clip: rect(1px, 1px, 1px, 1px);height: 1px;margin: -1px;overflow: hidden;padding: 0;position: absolute;width: 1px;}#sk-container-id-5 div.sk-estimator {font-family: monospace;background-color: #f0f8ff;border: 1px dotted black;border-radius: 0.25em;box-sizing: border-box;margin-bottom: 0.5em;}#sk-container-id-5 div.sk-estimator:hover {background-color: #d4ebff;}#sk-container-id-5 div.sk-parallel-item::after {content: \"\";width: 100%;border-bottom: 1px solid gray;flex-grow: 1;}#sk-container-id-5 div.sk-label:hover label.sk-toggleable__label {background-color: #d4ebff;}#sk-container-id-5 div.sk-serial::before {content: \"\";position: absolute;border-left: 1px solid gray;box-sizing: border-box;top: 0;bottom: 0;left: 50%;z-index: 0;}#sk-container-id-5 div.sk-serial {display: flex;flex-direction: column;align-items: center;background-color: white;padding-right: 0.2em;padding-left: 0.2em;position: relative;}#sk-container-id-5 div.sk-item {position: relative;z-index: 1;}#sk-container-id-5 div.sk-parallel {display: flex;align-items: stretch;justify-content: center;background-color: white;position: relative;}#sk-container-id-5 div.sk-item::before, #sk-container-id-5 div.sk-parallel-item::before {content: \"\";position: absolute;border-left: 1px solid gray;box-sizing: border-box;top: 0;bottom: 0;left: 50%;z-index: -1;}#sk-container-id-5 div.sk-parallel-item {display: flex;flex-direction: column;z-index: 1;position: relative;background-color: white;}#sk-container-id-5 div.sk-parallel-item:first-child::after {align-self: flex-end;width: 50%;}#sk-container-id-5 div.sk-parallel-item:last-child::after {align-self: flex-start;width: 50%;}#sk-container-id-5 div.sk-parallel-item:only-child::after {width: 0;}#sk-container-id-5 div.sk-dashed-wrapped {border: 1px dashed gray;margin: 0 0.4em 0.5em 0.4em;box-sizing: border-box;padding-bottom: 0.4em;background-color: white;}#sk-container-id-5 div.sk-label label {font-family: monospace;font-weight: bold;display: inline-block;line-height: 1.2em;}#sk-container-id-5 div.sk-label-container {text-align: center;}#sk-container-id-5 div.sk-container {/* jupyter's `normalize.less` sets `[hidden] { display: none; }` but bootstrap.min.css set `[hidden] { display: none !important; }` so we also need the `!important` here to be able to override the default hidden behavior on the sphinx rendered scikit-learn.org. See: https://github.com/scikit-learn/scikit-learn/issues/21755 */display: inline-block !important;position: relative;}#sk-container-id-5 div.sk-text-repr-fallback {display: none;}</style><div id=\"sk-container-id-5\" class=\"sk-top-container\"><div class=\"sk-text-repr-fallback\"><pre>GridSearchCV(cv=5,\n",
       "             estimator=Pipeline(steps=[(&#x27;cvec&#x27;,\n",
       "                                        CountVectorizer(stop_words=[&#x27;english&#x27;,\n",
       "                                                                    &#x27;makeup&#x27;])),\n",
       "                                       (&#x27;log_reg&#x27;, LogisticRegression())]),\n",
       "             param_grid={&#x27;cvec__max_df&#x27;: [0.9, 0.95, 1],\n",
       "                         &#x27;cvec__max_features&#x27;: [None, 3000, 5000],\n",
       "                         &#x27;cvec__min_df&#x27;: [1, 2, 3],\n",
       "                         &#x27;cvec__ngram_range&#x27;: [(1, 1), (1, 2)]})</pre><b>In a Jupyter environment, please rerun this cell to show the HTML representation or trust the notebook. <br />On GitHub, the HTML representation is unable to render, please try loading this page with nbviewer.org.</b></div><div class=\"sk-container\" hidden><div class=\"sk-item sk-dashed-wrapped\"><div class=\"sk-label-container\"><div class=\"sk-label sk-toggleable\"><input class=\"sk-toggleable__control sk-hidden--visually\" id=\"sk-estimator-id-12\" type=\"checkbox\" ><label for=\"sk-estimator-id-12\" class=\"sk-toggleable__label sk-toggleable__label-arrow\">GridSearchCV</label><div class=\"sk-toggleable__content\"><pre>GridSearchCV(cv=5,\n",
       "             estimator=Pipeline(steps=[(&#x27;cvec&#x27;,\n",
       "                                        CountVectorizer(stop_words=[&#x27;english&#x27;,\n",
       "                                                                    &#x27;makeup&#x27;])),\n",
       "                                       (&#x27;log_reg&#x27;, LogisticRegression())]),\n",
       "             param_grid={&#x27;cvec__max_df&#x27;: [0.9, 0.95, 1],\n",
       "                         &#x27;cvec__max_features&#x27;: [None, 3000, 5000],\n",
       "                         &#x27;cvec__min_df&#x27;: [1, 2, 3],\n",
       "                         &#x27;cvec__ngram_range&#x27;: [(1, 1), (1, 2)]})</pre></div></div></div><div class=\"sk-parallel\"><div class=\"sk-parallel-item\"><div class=\"sk-item\"><div class=\"sk-label-container\"><div class=\"sk-label sk-toggleable\"><input class=\"sk-toggleable__control sk-hidden--visually\" id=\"sk-estimator-id-13\" type=\"checkbox\" ><label for=\"sk-estimator-id-13\" class=\"sk-toggleable__label sk-toggleable__label-arrow\">estimator: Pipeline</label><div class=\"sk-toggleable__content\"><pre>Pipeline(steps=[(&#x27;cvec&#x27;, CountVectorizer(stop_words=[&#x27;english&#x27;, &#x27;makeup&#x27;])),\n",
       "                (&#x27;log_reg&#x27;, LogisticRegression())])</pre></div></div></div><div class=\"sk-serial\"><div class=\"sk-item\"><div class=\"sk-serial\"><div class=\"sk-item\"><div class=\"sk-estimator sk-toggleable\"><input class=\"sk-toggleable__control sk-hidden--visually\" id=\"sk-estimator-id-14\" type=\"checkbox\" ><label for=\"sk-estimator-id-14\" class=\"sk-toggleable__label sk-toggleable__label-arrow\">CountVectorizer</label><div class=\"sk-toggleable__content\"><pre>CountVectorizer(stop_words=[&#x27;english&#x27;, &#x27;makeup&#x27;])</pre></div></div></div><div class=\"sk-item\"><div class=\"sk-estimator sk-toggleable\"><input class=\"sk-toggleable__control sk-hidden--visually\" id=\"sk-estimator-id-15\" type=\"checkbox\" ><label for=\"sk-estimator-id-15\" class=\"sk-toggleable__label sk-toggleable__label-arrow\">LogisticRegression</label><div class=\"sk-toggleable__content\"><pre>LogisticRegression()</pre></div></div></div></div></div></div></div></div></div></div></div></div>"
      ],
      "text/plain": [
       "GridSearchCV(cv=5,\n",
       "             estimator=Pipeline(steps=[('cvec',\n",
       "                                        CountVectorizer(stop_words=['english',\n",
       "                                                                    'makeup'])),\n",
       "                                       ('log_reg', LogisticRegression())]),\n",
       "             param_grid={'cvec__max_df': [0.9, 0.95, 1],\n",
       "                         'cvec__max_features': [None, 3000, 5000],\n",
       "                         'cvec__min_df': [1, 2, 3],\n",
       "                         'cvec__ngram_range': [(1, 1), (1, 2)]})"
      ]
     },
     "execution_count": 61,
     "metadata": {},
     "output_type": "execute_result"
    }
   ],
   "source": [
    "%%time\n",
    "gs.fit(X_train, y_train)"
   ]
  },
  {
   "cell_type": "code",
   "execution_count": 62,
   "id": "3d5955ae-c404-4fc2-ab77-eedc47f0a04a",
   "metadata": {},
   "outputs": [
    {
     "data": {
      "text/plain": [
       "{'cvec__max_df': 0.9,\n",
       " 'cvec__max_features': None,\n",
       " 'cvec__min_df': 2,\n",
       " 'cvec__ngram_range': (1, 2)}"
      ]
     },
     "execution_count": 62,
     "metadata": {},
     "output_type": "execute_result"
    }
   ],
   "source": [
    "gs.best_params_"
   ]
  },
  {
   "cell_type": "markdown",
   "id": "56238f7a-c9ad-4245-8a70-d90c2d08b7af",
   "metadata": {},
   "source": [
    "### Scoring"
   ]
  },
  {
   "cell_type": "code",
   "execution_count": 63,
   "id": "e5067695-e19e-40d4-8afe-b35b3e511c00",
   "metadata": {},
   "outputs": [
    {
     "data": {
      "text/plain": [
       "0.9934597776324395"
      ]
     },
     "execution_count": 63,
     "metadata": {},
     "output_type": "execute_result"
    }
   ],
   "source": [
    "gs.score(X_train, y_train)"
   ]
  },
  {
   "cell_type": "code",
   "execution_count": 64,
   "id": "03d0cdee-c99a-4a2d-9932-bc74f9cf045e",
   "metadata": {},
   "outputs": [
    {
     "data": {
      "text/plain": [
       "0.9738903394255874"
      ]
     },
     "execution_count": 64,
     "metadata": {},
     "output_type": "execute_result"
    }
   ],
   "source": [
    "gs.score(X_test, y_test)"
   ]
  },
  {
   "cell_type": "markdown",
   "id": "afbc3749-a4f2-49ff-b3f3-250888de49f9",
   "metadata": {},
   "source": [
    "### Predictions"
   ]
  },
  {
   "cell_type": "code",
   "execution_count": 65,
   "id": "9ade7a38-e966-4a70-9c06-4e75265544d4",
   "metadata": {},
   "outputs": [],
   "source": [
    "preds = gs.predict(X_test)\n",
    "tn, fp, fn, tp = confusion_matrix(y_test, preds).ravel()"
   ]
  },
  {
   "cell_type": "code",
   "execution_count": 66,
   "id": "f05c6c8e-3086-4b2d-9c28-2f3d292669bf",
   "metadata": {},
   "outputs": [
    {
     "data": {
      "image/png": "[encoded data removed]",
      "text/plain": [
       "<Figure size 800x600 with 2 Axes>"
      ]
     },
     "metadata": {},
     "output_type": "display_data"
    }
   ],
   "source": [
    "fig, ax = plt.subplots(figsize=(8, 6))\n",
    "ConfusionMatrixDisplay.from_estimator(gs, X_test, y_test, cmap='Blues', ax=ax, \n",
    "                                      display_labels=['skincare', 'makeup']);"
   ]
  },
  {
   "cell_type": "code",
   "execution_count": 67,
   "id": "4f461113-9f1a-46c3-8f31-35477f2adcd7",
   "metadata": {},
   "outputs": [
    {
     "name": "stdout",
     "output_type": "stream",
     "text": [
      "              precision    recall  f1-score   support\n",
      "\n",
      "           0    0.96685   0.97765   0.97222       179\n",
      "           1    0.98020   0.97059   0.97537       204\n",
      "\n",
      "    accuracy                        0.97389       383\n",
      "   macro avg    0.97352   0.97412   0.97380       383\n",
      "weighted avg    0.97396   0.97389   0.97390       383\n",
      "\n"
     ]
    }
   ],
   "source": [
    "from sklearn.metrics import classification_report\n",
    "\n",
    "print(classification_report(y_test, preds, digits = 5))"
   ]
  },
  {
   "cell_type": "code",
   "execution_count": 68,
   "id": "c5f85269-0979-4077-9316-51edf39c3411",
   "metadata": {},
   "outputs": [],
   "source": [
    "misclassified_indices = (preds != y_test)"
   ]
  },
  {
   "cell_type": "code",
   "execution_count": 69,
   "id": "2e336b82-d081-4c0b-8b2d-128b8160bff1",
   "metadata": {},
   "outputs": [
    {
     "data": {
      "text/plain": [
       "1229    False\n",
       "111     False\n",
       "1845    False\n",
       "1326    False\n",
       "415     False\n",
       "        ...  \n",
       "1840    False\n",
       "733     False\n",
       "584     False\n",
       "812      True\n",
       "141      True\n",
       "Name: subreddit, Length: 383, dtype: bool"
      ]
     },
     "execution_count": 69,
     "metadata": {},
     "output_type": "execute_result"
    }
   ],
   "source": [
    "misclassified_indices"
   ]
  },
  {
   "cell_type": "code",
   "execution_count": 70,
   "id": "c0d2852c-c32e-4057-9ee6-f8635c0a1305",
   "metadata": {},
   "outputs": [],
   "source": [
    "misclassified_df = pd.DataFrame({\n",
    "    'Misclassified_Posts': X_test[misclassified_indices],\n",
    "    'True Labels': y_test[misclassified_indices],\n",
    "    'Predicted_Labels': preds[misclassified_indices]\n",
    "})"
   ]
  },
  {
   "cell_type": "code",
   "execution_count": 71,
   "id": "28f89d20-ba26-4f3f-a9dd-fac01a803051",
   "metadata": {},
   "outputs": [
    {
     "data": {
      "text/html": [
       "<div>\n",
       "<style scoped>\n",
       "    .dataframe tbody tr th:only-of-type {\n",
       "        vertical-align: middle;\n",
       "    }\n",
       "\n",
       "    .dataframe tbody tr th {\n",
       "        vertical-align: top;\n",
       "    }\n",
       "\n",
       "    .dataframe thead th {\n",
       "        text-align: right;\n",
       "    }\n",
       "</style>\n",
       "<table border=\"1\" class=\"dataframe\">\n",
       "  <thead>\n",
       "    <tr style=\"text-align: right;\">\n",
       "      <th></th>\n",
       "      <th>Misclassified_Posts</th>\n",
       "      <th>True Labels</th>\n",
       "      <th>Predicted_Labels</th>\n",
       "    </tr>\n",
       "  </thead>\n",
       "  <tbody>\n",
       "    <tr>\n",
       "      <th>414</th>\n",
       "      <td>[Haul] Tj maxx / Ross / Amazon</td>\n",
       "      <td>1</td>\n",
       "      <td>0</td>\n",
       "    </tr>\n",
       "    <tr>\n",
       "      <th>297</th>\n",
       "      <td>[Before&amp;After] First pic was taken 7 years ago, I want to share my journey for anyone else who is struggling.</td>\n",
       "      <td>1</td>\n",
       "      <td>0</td>\n",
       "    </tr>\n",
       "    <tr>\n",
       "      <th>1320</th>\n",
       "      <td>Routine for oily skin</td>\n",
       "      <td>0</td>\n",
       "      <td>1</td>\n",
       "    </tr>\n",
       "    <tr>\n",
       "      <th>1827</th>\n",
       "      <td>If you had money to spend on one product of Huda beauty, what product would you buy?</td>\n",
       "      <td>0</td>\n",
       "      <td>1</td>\n",
       "    </tr>\n",
       "    <tr>\n",
       "      <th>303</th>\n",
       "      <td>Am I weird? [Review]</td>\n",
       "      <td>1</td>\n",
       "      <td>0</td>\n",
       "    </tr>\n",
       "    <tr>\n",
       "      <th>692</th>\n",
       "      <td>[Research] “Hydrolyzed Nanocollagen” Interesting Find</td>\n",
       "      <td>1</td>\n",
       "      <td>0</td>\n",
       "    </tr>\n",
       "    <tr>\n",
       "      <th>1159</th>\n",
       "      <td>My newest routine!</td>\n",
       "      <td>0</td>\n",
       "      <td>1</td>\n",
       "    </tr>\n",
       "    <tr>\n",
       "      <th>1547</th>\n",
       "      <td>Question on routine- moisturizer, snail, primer</td>\n",
       "      <td>0</td>\n",
       "      <td>1</td>\n",
       "    </tr>\n",
       "    <tr>\n",
       "      <th>812</th>\n",
       "      <td>[haul] Excited to try out this Summer Fridays Rich Cushion Cream ☁️</td>\n",
       "      <td>1</td>\n",
       "      <td>0</td>\n",
       "    </tr>\n",
       "    <tr>\n",
       "      <th>141</th>\n",
       "      <td>[REVIEW] I think I may have finally found a comparable dupe for the Caudalie Vinoperfect serum.</td>\n",
       "      <td>1</td>\n",
       "      <td>0</td>\n",
       "    </tr>\n",
       "  </tbody>\n",
       "</table>\n",
       "</div>"
      ],
      "text/plain": [
       "                                                                                                Misclassified_Posts  \\\n",
       "414                                                                                  [Haul] Tj maxx / Ross / Amazon   \n",
       "297   [Before&After] First pic was taken 7 years ago, I want to share my journey for anyone else who is struggling.   \n",
       "1320                                                                                          Routine for oily skin   \n",
       "1827                           If you had money to spend on one product of Huda beauty, what product would you buy?   \n",
       "303                                                                                            Am I weird? [Review]   \n",
       "692                                                           [Research] “Hydrolyzed Nanocollagen” Interesting Find   \n",
       "1159                                                                                             My newest routine!   \n",
       "1547                                                                Question on routine- moisturizer, snail, primer   \n",
       "812                                             [haul] Excited to try out this Summer Fridays Rich Cushion Cream ☁️   \n",
       "141                 [REVIEW] I think I may have finally found a comparable dupe for the Caudalie Vinoperfect serum.   \n",
       "\n",
       "      True Labels  Predicted_Labels  \n",
       "414             1                 0  \n",
       "297             1                 0  \n",
       "1320            0                 1  \n",
       "1827            0                 1  \n",
       "303             1                 0  \n",
       "692             1                 0  \n",
       "1159            0                 1  \n",
       "1547            0                 1  \n",
       "812             1                 0  \n",
       "141             1                 0  "
      ]
     },
     "execution_count": 71,
     "metadata": {},
     "output_type": "execute_result"
    }
   ],
   "source": [
    "misclassified_df"
   ]
  }
 ],
 "metadata": {
  "kernelspec": {
   "display_name": "Python 3 (ipykernel)",
   "language": "python",
   "name": "python3"
  },
  "language_info": {
   "codemirror_mode": {
    "name": "ipython",
    "version": 3
   },
   "file_extension": ".py",
   "mimetype": "text/x-python",
   "name": "python",
   "nbconvert_exporter": "python",
   "pygments_lexer": "ipython3",
   "version": "3.11.7"
  }
 },
 "nbformat": 4,
 "nbformat_minor": 5
}
