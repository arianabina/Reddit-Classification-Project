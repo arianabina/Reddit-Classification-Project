{
 "cells": [
  {
   "cell_type": "markdown",
   "id": "43ae53cd-0ebe-4d09-a25b-38d6c24b62ad",
   "metadata": {},
   "source": [
    "# Data Cleaning"
   ]
  },
  {
   "cell_type": "markdown",
   "id": "cc743f57-d9de-4002-9038-678d06224d61",
   "metadata": {},
   "source": [
    "#### Imports"
   ]
  },
  {
   "cell_type": "code",
   "execution_count": 9,
   "id": "a185abe9-08bd-4ca7-aad1-555d42ed9f2b",
   "metadata": {},
   "outputs": [],
   "source": [
    "import pandas as pd\n",
    "import numpy as np"
   ]
  },
  {
   "cell_type": "code",
   "execution_count": 20,
   "id": "495f0040-8556-4abf-a89a-ae3f4a002dcb",
   "metadata": {},
   "outputs": [],
   "source": [
    "skincare = pd.read_csv('../Data/skincare.csv')"
   ]
  },
  {
   "cell_type": "code",
   "execution_count": 21,
   "id": "97d4181c-6293-4ef9-833c-229af20637dc",
   "metadata": {},
   "outputs": [],
   "source": [
    "makeup = pd.read_csv('../Data/makeup.csv')"
   ]
  },
  {
   "cell_type": "code",
   "execution_count": 22,
   "id": "48b1543a-6848-4e0a-9c69-a53e7e1d22ee",
   "metadata": {},
   "outputs": [
    {
     "data": {
      "text/html": [
       "<div>\n",
       "<style scoped>\n",
       "    .dataframe tbody tr th:only-of-type {\n",
       "        vertical-align: middle;\n",
       "    }\n",
       "\n",
       "    .dataframe tbody tr th {\n",
       "        vertical-align: top;\n",
       "    }\n",
       "\n",
       "    .dataframe thead th {\n",
       "        text-align: right;\n",
       "    }\n",
       "</style>\n",
       "<table border=\"1\" class=\"dataframe\">\n",
       "  <thead>\n",
       "    <tr style=\"text-align: right;\">\n",
       "      <th></th>\n",
       "      <th>created_utc</th>\n",
       "      <th>title</th>\n",
       "      <th>self_text</th>\n",
       "      <th>subreddit</th>\n",
       "    </tr>\n",
       "  </thead>\n",
       "  <tbody>\n",
       "    <tr>\n",
       "      <th>0</th>\n",
       "      <td>1.712793e+09</td>\n",
       "      <td>[Anti-Aging] Favorite La Roche Posay products ...</td>\n",
       "      <td>I am 29 years old female. I’ve noticed some ti...</td>\n",
       "      <td>SkincareAddiction</td>\n",
       "    </tr>\n",
       "    <tr>\n",
       "      <th>1</th>\n",
       "      <td>1.712793e+09</td>\n",
       "      <td>[Acne] Does epiduo expire in 3 months?</td>\n",
       "      <td>So I used to use epiduo for my acne but I stop...</td>\n",
       "      <td>SkincareAddiction</td>\n",
       "    </tr>\n",
       "    <tr>\n",
       "      <th>2</th>\n",
       "      <td>1.712792e+09</td>\n",
       "      <td>[Acne] Am I taking too many prescribed acne me...</td>\n",
       "      <td>I would say my acne is average for my age or m...</td>\n",
       "      <td>SkincareAddiction</td>\n",
       "    </tr>\n",
       "    <tr>\n",
       "      <th>3</th>\n",
       "      <td>1.712792e+09</td>\n",
       "      <td>[Routine Help] Salicylic acid not helping with...</td>\n",
       "      <td>I've been using Peach Slices acne cleanser for...</td>\n",
       "      <td>SkincareAddiction</td>\n",
       "    </tr>\n",
       "    <tr>\n",
       "      <th>4</th>\n",
       "      <td>1.712792e+09</td>\n",
       "      <td>[Misc] Should I reapply Glycolic Acid Toner to...</td>\n",
       "      <td>Hello. I recently got my first bottle of The O...</td>\n",
       "      <td>SkincareAddiction</td>\n",
       "    </tr>\n",
       "  </tbody>\n",
       "</table>\n",
       "</div>"
      ],
      "text/plain": [
       "    created_utc                                              title  \\\n",
       "0  1.712793e+09  [Anti-Aging] Favorite La Roche Posay products ...   \n",
       "1  1.712793e+09             [Acne] Does epiduo expire in 3 months?   \n",
       "2  1.712792e+09  [Acne] Am I taking too many prescribed acne me...   \n",
       "3  1.712792e+09  [Routine Help] Salicylic acid not helping with...   \n",
       "4  1.712792e+09  [Misc] Should I reapply Glycolic Acid Toner to...   \n",
       "\n",
       "                                           self_text          subreddit  \n",
       "0  I am 29 years old female. I’ve noticed some ti...  SkincareAddiction  \n",
       "1  So I used to use epiduo for my acne but I stop...  SkincareAddiction  \n",
       "2  I would say my acne is average for my age or m...  SkincareAddiction  \n",
       "3  I've been using Peach Slices acne cleanser for...  SkincareAddiction  \n",
       "4  Hello. I recently got my first bottle of The O...  SkincareAddiction  "
      ]
     },
     "execution_count": 22,
     "metadata": {},
     "output_type": "execute_result"
    }
   ],
   "source": [
    "skincare.head()"
   ]
  },
  {
   "cell_type": "code",
   "execution_count": 15,
   "id": "29ff30b2-ad79-4f40-a568-2e8104bc1531",
   "metadata": {},
   "outputs": [
    {
     "data": {
      "text/html": [
       "<div>\n",
       "<style scoped>\n",
       "    .dataframe tbody tr th:only-of-type {\n",
       "        vertical-align: middle;\n",
       "    }\n",
       "\n",
       "    .dataframe tbody tr th {\n",
       "        vertical-align: top;\n",
       "    }\n",
       "\n",
       "    .dataframe thead th {\n",
       "        text-align: right;\n",
       "    }\n",
       "</style>\n",
       "<table border=\"1\" class=\"dataframe\">\n",
       "  <thead>\n",
       "    <tr style=\"text-align: right;\">\n",
       "      <th></th>\n",
       "      <th>created_utc</th>\n",
       "      <th>title</th>\n",
       "      <th>self_text</th>\n",
       "      <th>subreddit</th>\n",
       "    </tr>\n",
       "  </thead>\n",
       "  <tbody>\n",
       "    <tr>\n",
       "      <th>0</th>\n",
       "      <td>1.712794e+09</td>\n",
       "      <td>How are you supposed to apply sunscreen under ...</td>\n",
       "      <td>I usually just wear sunscreen on it's own or m...</td>\n",
       "      <td>MakeupAddiction</td>\n",
       "    </tr>\n",
       "    <tr>\n",
       "      <th>1</th>\n",
       "      <td>1.712794e+09</td>\n",
       "      <td>I wear Estée Lauder in 2C0 cool vanilla but wi...</td>\n",
       "      <td>I wear cool vanilla but I’m getting a little d...</td>\n",
       "      <td>MakeupAddiction</td>\n",
       "    </tr>\n",
       "    <tr>\n",
       "      <th>2</th>\n",
       "      <td>1.712791e+09</td>\n",
       "      <td>bobbi brown color corrector stick recommendation?</td>\n",
       "      <td>NaN</td>\n",
       "      <td>MakeupAddiction</td>\n",
       "    </tr>\n",
       "    <tr>\n",
       "      <th>3</th>\n",
       "      <td>1.712790e+09</td>\n",
       "      <td>How would I go about creating a makeup look li...</td>\n",
       "      <td>NaN</td>\n",
       "      <td>MakeupAddiction</td>\n",
       "    </tr>\n",
       "    <tr>\n",
       "      <th>4</th>\n",
       "      <td>1.712790e+09</td>\n",
       "      <td>How do I make my eyes look less round?</td>\n",
       "      <td>Hi guys! First, please ignore the bad lipliner...</td>\n",
       "      <td>MakeupAddiction</td>\n",
       "    </tr>\n",
       "  </tbody>\n",
       "</table>\n",
       "</div>"
      ],
      "text/plain": [
       "    created_utc                                              title  \\\n",
       "0  1.712794e+09  How are you supposed to apply sunscreen under ...   \n",
       "1  1.712794e+09  I wear Estée Lauder in 2C0 cool vanilla but wi...   \n",
       "2  1.712791e+09  bobbi brown color corrector stick recommendation?   \n",
       "3  1.712790e+09  How would I go about creating a makeup look li...   \n",
       "4  1.712790e+09             How do I make my eyes look less round?   \n",
       "\n",
       "                                           self_text        subreddit  \n",
       "0  I usually just wear sunscreen on it's own or m...  MakeupAddiction  \n",
       "1  I wear cool vanilla but I’m getting a little d...  MakeupAddiction  \n",
       "2                                                NaN  MakeupAddiction  \n",
       "3                                                NaN  MakeupAddiction  \n",
       "4  Hi guys! First, please ignore the bad lipliner...  MakeupAddiction  "
      ]
     },
     "execution_count": 15,
     "metadata": {},
     "output_type": "execute_result"
    }
   ],
   "source": [
    "makeup.head()"
   ]
  },
  {
   "cell_type": "markdown",
   "id": "b00dcad5-b454-46f9-93f8-14cca0276e1e",
   "metadata": {},
   "source": [
    "#### Concatenating"
   ]
  },
  {
   "cell_type": "code",
   "execution_count": 17,
   "id": "2c3e6c9e-5fbe-4afa-9a3a-502b94878ccf",
   "metadata": {},
   "outputs": [],
   "source": [
    "subs = pd.concat([skincare, makeup], axis=0)"
   ]
  },
  {
   "cell_type": "code",
   "execution_count": 18,
   "id": "92269fe3-bdd3-48e3-bdf9-cfd54dbc139f",
   "metadata": {},
   "outputs": [
    {
     "data": {
      "text/html": [
       "<div>\n",
       "<style scoped>\n",
       "    .dataframe tbody tr th:only-of-type {\n",
       "        vertical-align: middle;\n",
       "    }\n",
       "\n",
       "    .dataframe tbody tr th {\n",
       "        vertical-align: top;\n",
       "    }\n",
       "\n",
       "    .dataframe thead th {\n",
       "        text-align: right;\n",
       "    }\n",
       "</style>\n",
       "<table border=\"1\" class=\"dataframe\">\n",
       "  <thead>\n",
       "    <tr style=\"text-align: right;\">\n",
       "      <th></th>\n",
       "      <th>created_utc</th>\n",
       "      <th>title</th>\n",
       "      <th>self_text</th>\n",
       "      <th>subreddit</th>\n",
       "    </tr>\n",
       "  </thead>\n",
       "  <tbody>\n",
       "    <tr>\n",
       "      <th>0</th>\n",
       "      <td>1.712793e+09</td>\n",
       "      <td>[Anti-Aging] Favorite La Roche Posay products ...</td>\n",
       "      <td>I am 29 years old female. I’ve noticed some ti...</td>\n",
       "      <td>SkincareAddiction</td>\n",
       "    </tr>\n",
       "    <tr>\n",
       "      <th>1</th>\n",
       "      <td>1.712793e+09</td>\n",
       "      <td>[Acne] Does epiduo expire in 3 months?</td>\n",
       "      <td>So I used to use epiduo for my acne but I stop...</td>\n",
       "      <td>SkincareAddiction</td>\n",
       "    </tr>\n",
       "    <tr>\n",
       "      <th>2</th>\n",
       "      <td>1.712792e+09</td>\n",
       "      <td>[Acne] Am I taking too many prescribed acne me...</td>\n",
       "      <td>I would say my acne is average for my age or m...</td>\n",
       "      <td>SkincareAddiction</td>\n",
       "    </tr>\n",
       "    <tr>\n",
       "      <th>3</th>\n",
       "      <td>1.712792e+09</td>\n",
       "      <td>[Routine Help] Salicylic acid not helping with...</td>\n",
       "      <td>I've been using Peach Slices acne cleanser for...</td>\n",
       "      <td>SkincareAddiction</td>\n",
       "    </tr>\n",
       "    <tr>\n",
       "      <th>4</th>\n",
       "      <td>1.712792e+09</td>\n",
       "      <td>[Misc] Should I reapply Glycolic Acid Toner to...</td>\n",
       "      <td>Hello. I recently got my first bottle of The O...</td>\n",
       "      <td>SkincareAddiction</td>\n",
       "    </tr>\n",
       "  </tbody>\n",
       "</table>\n",
       "</div>"
      ],
      "text/plain": [
       "    created_utc                                              title  \\\n",
       "0  1.712793e+09  [Anti-Aging] Favorite La Roche Posay products ...   \n",
       "1  1.712793e+09             [Acne] Does epiduo expire in 3 months?   \n",
       "2  1.712792e+09  [Acne] Am I taking too many prescribed acne me...   \n",
       "3  1.712792e+09  [Routine Help] Salicylic acid not helping with...   \n",
       "4  1.712792e+09  [Misc] Should I reapply Glycolic Acid Toner to...   \n",
       "\n",
       "                                           self_text          subreddit  \n",
       "0  I am 29 years old female. I’ve noticed some ti...  SkincareAddiction  \n",
       "1  So I used to use epiduo for my acne but I stop...  SkincareAddiction  \n",
       "2  I would say my acne is average for my age or m...  SkincareAddiction  \n",
       "3  I've been using Peach Slices acne cleanser for...  SkincareAddiction  \n",
       "4  Hello. I recently got my first bottle of The O...  SkincareAddiction  "
      ]
     },
     "execution_count": 18,
     "metadata": {},
     "output_type": "execute_result"
    }
   ],
   "source": [
    "subs.head()"
   ]
  },
  {
   "cell_type": "code",
   "execution_count": 19,
   "id": "07562370-7b1e-45e8-9170-7b87e2829e21",
   "metadata": {},
   "outputs": [
    {
     "data": {
      "text/plain": [
       "(1912, 4)"
      ]
     },
     "execution_count": 19,
     "metadata": {},
     "output_type": "execute_result"
    }
   ],
   "source": [
    "subs.shape"
   ]
  },
  {
   "cell_type": "markdown",
   "id": "3f4cecd3-a30d-4f56-aa43-8ce0160a75dc",
   "metadata": {},
   "source": [
    "#### Checking for Duplicates"
   ]
  },
  {
   "cell_type": "code",
   "execution_count": 20,
   "id": "17b00df4-b06f-4cbb-b114-98133cd9dee3",
   "metadata": {},
   "outputs": [
    {
     "data": {
      "text/plain": [
       "0"
      ]
     },
     "execution_count": 20,
     "metadata": {},
     "output_type": "execute_result"
    }
   ],
   "source": [
    "subs.duplicated().sum()"
   ]
  },
  {
   "cell_type": "markdown",
   "id": "0471e02e-080a-4885-bf3d-c9d8c84c88ab",
   "metadata": {},
   "source": [
    "#### Checking for Nulls"
   ]
  },
  {
   "cell_type": "code",
   "execution_count": 21,
   "id": "352aff26-0391-4c96-99ff-72c6fb234ef0",
   "metadata": {},
   "outputs": [
    {
     "data": {
      "text/plain": [
       "created_utc      0\n",
       "title            0\n",
       "self_text      181\n",
       "subreddit        0\n",
       "dtype: int64"
      ]
     },
     "execution_count": 21,
     "metadata": {},
     "output_type": "execute_result"
    }
   ],
   "source": [
    "subs.isna().sum()"
   ]
  },
  {
   "cell_type": "markdown",
   "id": "ef44099f-3360-4684-9065-672e6dde549e",
   "metadata": {},
   "source": [
    "#### Filling Nulls"
   ]
  },
  {
   "cell_type": "code",
   "execution_count": 22,
   "id": "035f471b-f0e4-47ab-9695-87098a2f03b4",
   "metadata": {},
   "outputs": [],
   "source": [
    "subs['self_text'].fillna('no_text', inplace=True)"
   ]
  },
  {
   "cell_type": "markdown",
   "id": "15ca9bd1-dd43-4771-a67d-9202504e8d36",
   "metadata": {},
   "source": [
    "#### Dummifying Subreddit Column: Skincare = 1, Make-up = 0"
   ]
  },
  {
   "cell_type": "code",
   "execution_count": 23,
   "id": "7e464dea-ca92-47f0-b93c-ad3193df392e",
   "metadata": {},
   "outputs": [],
   "source": [
    "subs = pd.get_dummies(subs, columns=['subreddit'], drop_first=True, dtype=int)"
   ]
  },
  {
   "cell_type": "code",
   "execution_count": 30,
   "id": "35b68fe6-4de5-4c24-8cb6-974a01c02b5e",
   "metadata": {},
   "outputs": [],
   "source": [
    "subs.rename(columns={'subreddit_SkincareAddiction' : 'subreddit'}, inplace=True)"
   ]
  },
  {
   "cell_type": "markdown",
   "id": "25b30dd2-48c0-476e-87f0-c0a312888fc1",
   "metadata": {},
   "source": [
    "#### Save Cleaned Dataframe to CSV "
   ]
  },
  {
   "cell_type": "code",
   "execution_count": 31,
   "id": "3d6100c4-08ce-4950-813d-433d15c71f0d",
   "metadata": {},
   "outputs": [],
   "source": [
    "subs.to_csv('../beauty.csv', index=False)"
   ]
  }
 ],
 "metadata": {
  "kernelspec": {
   "display_name": "Python 3 (ipykernel)",
   "language": "python",
   "name": "python3"
  },
  "language_info": {
   "codemirror_mode": {
    "name": "ipython",
    "version": 3
   },
   "file_extension": ".py",
   "mimetype": "text/x-python",
   "name": "python",
   "nbconvert_exporter": "python",
   "pygments_lexer": "ipython3",
   "version": "3.11.7"
  }
 },
 "nbformat": 4,
 "nbformat_minor": 5
}
