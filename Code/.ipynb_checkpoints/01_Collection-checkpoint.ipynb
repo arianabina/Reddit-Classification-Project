{
 "cells": [
  {
   "cell_type": "markdown",
   "id": "64ce1a8d-a377-4658-ae48-746ae719a769",
   "metadata": {},
   "source": [
    "# Data Collection"
   ]
  },
  {
   "cell_type": "markdown",
   "id": "62d21d32-4657-4496-a931-c69592b7d8f2",
   "metadata": {},
   "source": [
    "#### Imports"
   ]
  },
  {
   "cell_type": "code",
   "execution_count": 14,
   "id": "d26ca77d-4868-4fd1-aa18-6b0a8583aa4b",
   "metadata": {},
   "outputs": [],
   "source": [
    "import pandas as pd"
   ]
  },
  {
   "cell_type": "markdown",
   "id": "5201f49c-015d-4476-8433-210a90d814ba",
   "metadata": {},
   "source": [
    "#### Install PRAW"
   ]
  },
  {
   "cell_type": "code",
   "execution_count": 15,
   "id": "8ce7fc38-dc3d-4932-b938-a9965e72307d",
   "metadata": {
    "collapsed": true,
    "jupyter": {
     "outputs_hidden": true
    },
    "scrolled": true
   },
   "outputs": [
    {
     "name": "stdout",
     "output_type": "stream",
     "text": [
      "Requirement already satisfied: praw in /opt/anaconda3/lib/python3.11/site-packages (7.7.1)\n",
      "Requirement already satisfied: prawcore<3,>=2.1 in /opt/anaconda3/lib/python3.11/site-packages (from praw) (2.4.0)\n",
      "Requirement already satisfied: update-checker>=0.18 in /opt/anaconda3/lib/python3.11/site-packages (from praw) (0.18.0)\n",
      "Requirement already satisfied: websocket-client>=0.54.0 in /opt/anaconda3/lib/python3.11/site-packages (from praw) (0.58.0)\n",
      "Requirement already satisfied: requests<3.0,>=2.6.0 in /opt/anaconda3/lib/python3.11/site-packages (from prawcore<3,>=2.1->praw) (2.31.0)\n",
      "Requirement already satisfied: six in /opt/anaconda3/lib/python3.11/site-packages (from websocket-client>=0.54.0->praw) (1.16.0)\n",
      "Requirement already satisfied: charset-normalizer<4,>=2 in /opt/anaconda3/lib/python3.11/site-packages (from requests<3.0,>=2.6.0->prawcore<3,>=2.1->praw) (2.0.4)\n",
      "Requirement already satisfied: idna<4,>=2.5 in /opt/anaconda3/lib/python3.11/site-packages (from requests<3.0,>=2.6.0->prawcore<3,>=2.1->praw) (3.4)\n",
      "Requirement already satisfied: urllib3<3,>=1.21.1 in /opt/anaconda3/lib/python3.11/site-packages (from requests<3.0,>=2.6.0->prawcore<3,>=2.1->praw) (2.0.7)\n",
      "Requirement already satisfied: certifi>=2017.4.17 in /opt/anaconda3/lib/python3.11/site-packages (from requests<3.0,>=2.6.0->prawcore<3,>=2.1->praw) (2024.2.2)\n"
     ]
    }
   ],
   "source": [
    "!pip install praw\n",
    "import praw"
   ]
  },
  {
   "cell_type": "markdown",
   "id": "c8f02c69-7dd5-4161-906f-adf6bef1108c",
   "metadata": {},
   "source": [
    "#### Initialize PRAW"
   ]
  },
  {
   "cell_type": "code",
   "execution_count": 16,
   "id": "b772384c-c545-4323-baf9-5beee6a02308",
   "metadata": {},
   "outputs": [],
   "source": [
    "reddit = praw.Reddit(\n",
    "    client_id='MVZCgn46yhprwtCHZzztSA',\n",
    "    client_secret='7LAVBvqPO6lPHk9jrolzyw1HA12lBg',\n",
    "    user_agent='Fit_Echidna1772_ga',\n",
    "    username='Fit_Echidna1772',\n",
    "    password=''\n",
    ")"
   ]
  },
  {
   "cell_type": "markdown",
   "id": "7935c22e-fc21-4ef0-a092-978536cc1413",
   "metadata": {},
   "source": [
    "#### Access Subreddit Threads"
   ]
  },
  {
   "cell_type": "code",
   "execution_count": 17,
   "id": "d86603c5-b14b-44d5-8ca5-5b5a5374c9fe",
   "metadata": {},
   "outputs": [],
   "source": [
    "skincare_subreddit = reddit.subreddit('SkincareAddiction')\n",
    "makeup_subreddit = reddit.subreddit('MakeupAddiction')"
   ]
  },
  {
   "cell_type": "markdown",
   "id": "9dc42fb3-d155-40b0-a6bf-2924e37e1642",
   "metadata": {},
   "source": [
    "#### Retrieve Post Titles From Each Thread"
   ]
  },
  {
   "cell_type": "code",
   "execution_count": 21,
   "id": "35ac2850-f4ef-4239-aad1-cf33043b9a07",
   "metadata": {},
   "outputs": [],
   "source": [
    "skincare_data = []\n",
    "makeup_data = []\n",
    "\n",
    "# Retrieve posts from SkincareAddiction\n",
    "for post in skincare_subreddit.new(limit=1000):  \n",
    "    skincare_data.append([post.created_utc, post.title, post.selftext, post.subreddit])\n",
    "\n",
    "# Retrieve posts from MakeupAddiction\n",
    "for post in makeup_subreddit.new(limit=1000):  \n",
    "    makeup_data.append([post.created_utc, post.title, post.selftext, post.subreddit])"
   ]
  },
  {
   "cell_type": "markdown",
   "id": "aeadad19-82b6-44a4-802b-70d949d410d1",
   "metadata": {},
   "source": [
    "#### Convert to DataFrames"
   ]
  },
  {
   "cell_type": "code",
   "execution_count": 26,
   "id": "55671faa-b101-4574-a1b7-8d19e002ac78",
   "metadata": {},
   "outputs": [],
   "source": [
    "skincare_df = pd.DataFrame(skincare_data, columns=['created_utc', 'title', 'self_text', 'subreddit'])\n",
    "makeup_df = pd.DataFrame(makeup_data, columns=['created_utc', 'title', 'self_text', 'subreddit'])"
   ]
  },
  {
   "cell_type": "code",
   "execution_count": 27,
   "id": "f4a8366e-4a9e-4bcc-bc8c-4cb7c65f7b53",
   "metadata": {},
   "outputs": [
    {
     "data": {
      "text/html": [
       "<div>\n",
       "<style scoped>\n",
       "    .dataframe tbody tr th:only-of-type {\n",
       "        vertical-align: middle;\n",
       "    }\n",
       "\n",
       "    .dataframe tbody tr th {\n",
       "        vertical-align: top;\n",
       "    }\n",
       "\n",
       "    .dataframe thead th {\n",
       "        text-align: right;\n",
       "    }\n",
       "</style>\n",
       "<table border=\"1\" class=\"dataframe\">\n",
       "  <thead>\n",
       "    <tr style=\"text-align: right;\">\n",
       "      <th></th>\n",
       "      <th>created_utc</th>\n",
       "      <th>title</th>\n",
       "      <th>self_text</th>\n",
       "      <th>subreddit</th>\n",
       "    </tr>\n",
       "  </thead>\n",
       "  <tbody>\n",
       "    <tr>\n",
       "      <th>0</th>\n",
       "      <td>1.712793e+09</td>\n",
       "      <td>[Anti-Aging] Favorite La Roche Posay products ...</td>\n",
       "      <td>I am 29 years old female. I’ve noticed some ti...</td>\n",
       "      <td>SkincareAddiction</td>\n",
       "    </tr>\n",
       "    <tr>\n",
       "      <th>1</th>\n",
       "      <td>1.712793e+09</td>\n",
       "      <td>[Acne] Does epiduo expire in 3 months?</td>\n",
       "      <td>So I used to use epiduo for my acne but I stop...</td>\n",
       "      <td>SkincareAddiction</td>\n",
       "    </tr>\n",
       "    <tr>\n",
       "      <th>2</th>\n",
       "      <td>1.712792e+09</td>\n",
       "      <td>[Acne] Am I taking too many prescribed acne me...</td>\n",
       "      <td>I would say my acne is average for my age or m...</td>\n",
       "      <td>SkincareAddiction</td>\n",
       "    </tr>\n",
       "    <tr>\n",
       "      <th>3</th>\n",
       "      <td>1.712792e+09</td>\n",
       "      <td>[Routine Help] Salicylic acid not helping with...</td>\n",
       "      <td>I've been using Peach Slices acne cleanser for...</td>\n",
       "      <td>SkincareAddiction</td>\n",
       "    </tr>\n",
       "    <tr>\n",
       "      <th>4</th>\n",
       "      <td>1.712792e+09</td>\n",
       "      <td>[Misc] Should I reapply Glycolic Acid Toner to...</td>\n",
       "      <td>Hello. I recently got my first bottle of The O...</td>\n",
       "      <td>SkincareAddiction</td>\n",
       "    </tr>\n",
       "    <tr>\n",
       "      <th>...</th>\n",
       "      <td>...</td>\n",
       "      <td>...</td>\n",
       "      <td>...</td>\n",
       "      <td>...</td>\n",
       "    </tr>\n",
       "    <tr>\n",
       "      <th>989</th>\n",
       "      <td>1.712148e+09</td>\n",
       "      <td>[Product Question] Breaking out from oral coll...</td>\n",
       "      <td>I started taking oral collagen supplement a fe...</td>\n",
       "      <td>SkincareAddiction</td>\n",
       "    </tr>\n",
       "    <tr>\n",
       "      <th>990</th>\n",
       "      <td>1.712159e+09</td>\n",
       "      <td>[product request] best, thick, facial moisturi...</td>\n",
       "      <td>any recommendations for a nice, thick, facial ...</td>\n",
       "      <td>SkincareAddiction</td>\n",
       "    </tr>\n",
       "    <tr>\n",
       "      <th>991</th>\n",
       "      <td>1.712159e+09</td>\n",
       "      <td>[routine help] body gua sha and dry brushing</td>\n",
       "      <td>Is it worth incorporating these into my routin...</td>\n",
       "      <td>SkincareAddiction</td>\n",
       "    </tr>\n",
       "    <tr>\n",
       "      <th>992</th>\n",
       "      <td>1.712159e+09</td>\n",
       "      <td>Salicylic acid newbie! [Product question]</td>\n",
       "      <td>Hi guys, I just got from amazon Paula's Choice...</td>\n",
       "      <td>SkincareAddiction</td>\n",
       "    </tr>\n",
       "    <tr>\n",
       "      <th>993</th>\n",
       "      <td>1.712158e+09</td>\n",
       "      <td>[Misc] DAE feel like their skin barrier never ...</td>\n",
       "      <td>I literally can’t even wear the most basic phy...</td>\n",
       "      <td>SkincareAddiction</td>\n",
       "    </tr>\n",
       "  </tbody>\n",
       "</table>\n",
       "<p>994 rows × 4 columns</p>\n",
       "</div>"
      ],
      "text/plain": [
       "      created_utc                                              title  \\\n",
       "0    1.712793e+09  [Anti-Aging] Favorite La Roche Posay products ...   \n",
       "1    1.712793e+09             [Acne] Does epiduo expire in 3 months?   \n",
       "2    1.712792e+09  [Acne] Am I taking too many prescribed acne me...   \n",
       "3    1.712792e+09  [Routine Help] Salicylic acid not helping with...   \n",
       "4    1.712792e+09  [Misc] Should I reapply Glycolic Acid Toner to...   \n",
       "..            ...                                                ...   \n",
       "989  1.712148e+09  [Product Question] Breaking out from oral coll...   \n",
       "990  1.712159e+09  [product request] best, thick, facial moisturi...   \n",
       "991  1.712159e+09       [routine help] body gua sha and dry brushing   \n",
       "992  1.712159e+09          Salicylic acid newbie! [Product question]   \n",
       "993  1.712158e+09  [Misc] DAE feel like their skin barrier never ...   \n",
       "\n",
       "                                             self_text          subreddit  \n",
       "0    I am 29 years old female. I’ve noticed some ti...  SkincareAddiction  \n",
       "1    So I used to use epiduo for my acne but I stop...  SkincareAddiction  \n",
       "2    I would say my acne is average for my age or m...  SkincareAddiction  \n",
       "3    I've been using Peach Slices acne cleanser for...  SkincareAddiction  \n",
       "4    Hello. I recently got my first bottle of The O...  SkincareAddiction  \n",
       "..                                                 ...                ...  \n",
       "989  I started taking oral collagen supplement a fe...  SkincareAddiction  \n",
       "990  any recommendations for a nice, thick, facial ...  SkincareAddiction  \n",
       "991  Is it worth incorporating these into my routin...  SkincareAddiction  \n",
       "992  Hi guys, I just got from amazon Paula's Choice...  SkincareAddiction  \n",
       "993  I literally can’t even wear the most basic phy...  SkincareAddiction  \n",
       "\n",
       "[994 rows x 4 columns]"
      ]
     },
     "execution_count": 27,
     "metadata": {},
     "output_type": "execute_result"
    }
   ],
   "source": [
    "skincare_df"
   ]
  },
  {
   "cell_type": "code",
   "execution_count": 28,
   "id": "c2b6a37f-4894-4ee5-a6d1-4d5e8327c5c6",
   "metadata": {},
   "outputs": [
    {
     "data": {
      "text/html": [
       "<div>\n",
       "<style scoped>\n",
       "    .dataframe tbody tr th:only-of-type {\n",
       "        vertical-align: middle;\n",
       "    }\n",
       "\n",
       "    .dataframe tbody tr th {\n",
       "        vertical-align: top;\n",
       "    }\n",
       "\n",
       "    .dataframe thead th {\n",
       "        text-align: right;\n",
       "    }\n",
       "</style>\n",
       "<table border=\"1\" class=\"dataframe\">\n",
       "  <thead>\n",
       "    <tr style=\"text-align: right;\">\n",
       "      <th></th>\n",
       "      <th>created_utc</th>\n",
       "      <th>title</th>\n",
       "      <th>self_text</th>\n",
       "      <th>subreddit</th>\n",
       "    </tr>\n",
       "  </thead>\n",
       "  <tbody>\n",
       "    <tr>\n",
       "      <th>0</th>\n",
       "      <td>1.712794e+09</td>\n",
       "      <td>How are you supposed to apply sunscreen under ...</td>\n",
       "      <td>I usually just wear sunscreen on it's own or m...</td>\n",
       "      <td>MakeupAddiction</td>\n",
       "    </tr>\n",
       "    <tr>\n",
       "      <th>1</th>\n",
       "      <td>1.712794e+09</td>\n",
       "      <td>I wear Estée Lauder in 2C0 cool vanilla but wi...</td>\n",
       "      <td>I wear cool vanilla but I’m getting a little d...</td>\n",
       "      <td>MakeupAddiction</td>\n",
       "    </tr>\n",
       "    <tr>\n",
       "      <th>2</th>\n",
       "      <td>1.712791e+09</td>\n",
       "      <td>bobbi brown color corrector stick recommendation?</td>\n",
       "      <td></td>\n",
       "      <td>MakeupAddiction</td>\n",
       "    </tr>\n",
       "    <tr>\n",
       "      <th>3</th>\n",
       "      <td>1.712790e+09</td>\n",
       "      <td>How would I go about creating a makeup look li...</td>\n",
       "      <td></td>\n",
       "      <td>MakeupAddiction</td>\n",
       "    </tr>\n",
       "    <tr>\n",
       "      <th>4</th>\n",
       "      <td>1.712790e+09</td>\n",
       "      <td>How do I make my eyes look less round?</td>\n",
       "      <td>Hi guys! First, please ignore the bad lipliner...</td>\n",
       "      <td>MakeupAddiction</td>\n",
       "    </tr>\n",
       "    <tr>\n",
       "      <th>...</th>\n",
       "      <td>...</td>\n",
       "      <td>...</td>\n",
       "      <td>...</td>\n",
       "      <td>...</td>\n",
       "    </tr>\n",
       "    <tr>\n",
       "      <th>913</th>\n",
       "      <td>1.711863e+09</td>\n",
       "      <td>Look for Fatoumata Diawara Concert the other n...</td>\n",
       "      <td>Product List (last two slides are photos of pr...</td>\n",
       "      <td>MakeupAddiction</td>\n",
       "    </tr>\n",
       "    <tr>\n",
       "      <th>914</th>\n",
       "      <td>1.711862e+09</td>\n",
       "      <td>i need advice please</td>\n",
       "      <td>ok so, im 16 and im just getting into the make...</td>\n",
       "      <td>MakeupAddiction</td>\n",
       "    </tr>\n",
       "    <tr>\n",
       "      <th>915</th>\n",
       "      <td>1.711861e+09</td>\n",
       "      <td>tried eye makeup for the 1st time, did I do well?</td>\n",
       "      <td>I used the NASA mega-mocha pallet in case anyo...</td>\n",
       "      <td>MakeupAddiction</td>\n",
       "    </tr>\n",
       "    <tr>\n",
       "      <th>916</th>\n",
       "      <td>1.711860e+09</td>\n",
       "      <td>Lip glosses/balms drying lips</td>\n",
       "      <td>Does anyone else get dry or really sticky lips...</td>\n",
       "      <td>MakeupAddiction</td>\n",
       "    </tr>\n",
       "    <tr>\n",
       "      <th>917</th>\n",
       "      <td>1.711859e+09</td>\n",
       "      <td>Could you please help me identify my skin unde...</td>\n",
       "      <td></td>\n",
       "      <td>MakeupAddiction</td>\n",
       "    </tr>\n",
       "  </tbody>\n",
       "</table>\n",
       "<p>918 rows × 4 columns</p>\n",
       "</div>"
      ],
      "text/plain": [
       "      created_utc                                              title  \\\n",
       "0    1.712794e+09  How are you supposed to apply sunscreen under ...   \n",
       "1    1.712794e+09  I wear Estée Lauder in 2C0 cool vanilla but wi...   \n",
       "2    1.712791e+09  bobbi brown color corrector stick recommendation?   \n",
       "3    1.712790e+09  How would I go about creating a makeup look li...   \n",
       "4    1.712790e+09             How do I make my eyes look less round?   \n",
       "..            ...                                                ...   \n",
       "913  1.711863e+09  Look for Fatoumata Diawara Concert the other n...   \n",
       "914  1.711862e+09                               i need advice please   \n",
       "915  1.711861e+09  tried eye makeup for the 1st time, did I do well?   \n",
       "916  1.711860e+09                     Lip glosses/balms drying lips    \n",
       "917  1.711859e+09  Could you please help me identify my skin unde...   \n",
       "\n",
       "                                             self_text        subreddit  \n",
       "0    I usually just wear sunscreen on it's own or m...  MakeupAddiction  \n",
       "1    I wear cool vanilla but I’m getting a little d...  MakeupAddiction  \n",
       "2                                                       MakeupAddiction  \n",
       "3                                                       MakeupAddiction  \n",
       "4    Hi guys! First, please ignore the bad lipliner...  MakeupAddiction  \n",
       "..                                                 ...              ...  \n",
       "913  Product List (last two slides are photos of pr...  MakeupAddiction  \n",
       "914  ok so, im 16 and im just getting into the make...  MakeupAddiction  \n",
       "915  I used the NASA mega-mocha pallet in case anyo...  MakeupAddiction  \n",
       "916  Does anyone else get dry or really sticky lips...  MakeupAddiction  \n",
       "917                                                     MakeupAddiction  \n",
       "\n",
       "[918 rows x 4 columns]"
      ]
     },
     "execution_count": 28,
     "metadata": {},
     "output_type": "execute_result"
    }
   ],
   "source": [
    "makeup_df"
   ]
  },
  {
   "cell_type": "markdown",
   "id": "b67371fc-1f51-40e1-8f2e-b04e69a215c8",
   "metadata": {},
   "source": [
    "#### Export Dataframes to CSV"
   ]
  },
  {
   "cell_type": "code",
   "execution_count": 29,
   "id": "2ade8c47-cf9d-44b7-84fb-fd1300168e20",
   "metadata": {},
   "outputs": [],
   "source": [
    "skincare_df.to_csv('../skincare.csv', index=False)"
   ]
  },
  {
   "cell_type": "code",
   "execution_count": 30,
   "id": "a8b29f86-7928-47c9-96df-77eab3d4e0db",
   "metadata": {},
   "outputs": [],
   "source": [
    "makeup_df.to_csv('../makeup.csv', index=False)"
   ]
  }
 ],
 "metadata": {
  "kernelspec": {
   "display_name": "Python 3 (ipykernel)",
   "language": "python",
   "name": "python3"
  },
  "language_info": {
   "codemirror_mode": {
    "name": "ipython",
    "version": 3
   },
   "file_extension": ".py",
   "mimetype": "text/x-python",
   "name": "python",
   "nbconvert_exporter": "python",
   "pygments_lexer": "ipython3",
   "version": "3.11.7"
  }
 },
 "nbformat": 4,
 "nbformat_minor": 5
}
